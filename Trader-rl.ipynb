{
 "cells": [
  {
   "cell_type": "code",
   "execution_count": 1,
   "metadata": {},
   "outputs": [
    {
     "name": "stderr",
     "output_type": "stream",
     "text": [
      "/home/adaptation/anaconda3/envs/drlndfixed/lib/python3.6/site-packages/gym/logger.py:30: UserWarning: WARN: gym.spaces.Box autodetected dtype as <class 'numpy.float32'>. Please provide explicit dtype.\n",
      "  warnings.warn(colorize('%s: %s'%('WARN', msg % args), 'yellow'))\n"
     ]
    }
   ],
   "source": [
    "#import argparse\n",
    "\n",
    "import gym\n",
    "import numpy as np\n",
    "from traderrl import PPO2_SB\n",
    "from traderrl import SAC_SB\n",
    "from traderrl import DataGrabber\n",
    "from traderrl import MarketLive\n",
    "from traderrl import Optimization\n",
    "\n",
    "    \n",
    "\n"
   ]
  },
  {
   "cell_type": "code",
   "execution_count": 2,
   "metadata": {},
   "outputs": [],
   "source": [
    "def main():\n",
    "    test = DataGrabber()\n",
    "    #test.process_to_array_2()\n",
    "    test.process_to_array_full()\n",
    "    #test = SAC_SB()\n",
    "    #test = Optimization()\n",
    "    #test.optimize()\n",
    "    #test = PPO2_SB()\n",
    "    #test.train()\n",
    "    #test.evaluate()\n",
    "    #test = MarketLive()\n",
    "    #test.market_order_long()\n",
    "    #test.candles_live()\n",
    "    #test.gen_pre_train()\n",
    "    #test.pre_train()"
   ]
  },
  {
   "cell_type": "code",
   "execution_count": 3,
   "metadata": {},
   "outputs": [
    {
     "name": "stderr",
     "output_type": "stream",
     "text": [
      "/home/adaptation/anaconda3/envs/drlndfixed/lib/python3.6/re.py:212: FutureWarning: split() requires a non-empty pattern match.\n",
      "  return _compile(pattern, flags).split(string, maxsplit)\n"
     ]
    }
   ],
   "source": [
    "if __name__ == '__main__':\n",
    "    # execute only if run as the entry point into the program\n",
    "    main()\n",
    "    \n",
    "\n",
    "\n",
    "\n",
    "#ref: inc04138877 "
   ]
  },
  {
   "cell_type": "code",
   "execution_count": 4,
   "metadata": {},
   "outputs": [],
   "source": [
    "years = ['2017']\n",
    "hist = 365\n",
    "t_frame = \"D\"\n",
    "instrument = ['AUD_USD']"
   ]
  },
  {
   "cell_type": "code",
   "execution_count": 5,
   "metadata": {},
   "outputs": [],
   "source": [
    "full_year = np.load('data/'+instrument[0]+str(hist)+t_frame+years[0]+'.npy')"
   ]
  },
  {
   "cell_type": "code",
   "execution_count": 7,
   "metadata": {},
   "outputs": [
    {
     "data": {
      "text/plain": [
       "2"
      ]
     },
     "execution_count": 7,
     "metadata": {},
     "output_type": "execute_result"
    }
   ],
   "source": [
    "len(full_year)"
   ]
  },
  {
   "cell_type": "code",
   "execution_count": null,
   "metadata": {},
   "outputs": [],
   "source": []
  }
 ],
 "metadata": {
  "kernelspec": {
   "display_name": "Python 3",
   "language": "python",
   "name": "python3"
  },
  "language_info": {
   "codemirror_mode": {
    "name": "ipython",
    "version": 3
   },
   "file_extension": ".py",
   "mimetype": "text/x-python",
   "name": "python",
   "nbconvert_exporter": "python",
   "pygments_lexer": "ipython3",
   "version": "3.6.7"
  }
 },
 "nbformat": 4,
 "nbformat_minor": 2
}
